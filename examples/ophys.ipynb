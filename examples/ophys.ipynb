{
 "cells": [
  {
   "cell_type": "code",
   "execution_count": null,
   "id": "skilled-absorption",
   "metadata": {},
   "outputs": [],
   "source": [
    "from pathlib import Path\n",
    "from typing import Optional, Union\n",
    "\n",
    "import simuran as smr\n",
    "\n",
    "from allensdk.brain_observatory.behavior.behavior_project_cache import (\n",
    "    VisualBehaviorOphysProjectCache,\n",
    ")\n",
    "import pandas as pd\n",
    "import dtale\n",
    "import matplotlib.pyplot as plt"
   ]
  },
  {
   "cell_type": "code",
   "execution_count": null,
   "id": "f06dcfa0",
   "metadata": {},
   "outputs": [],
   "source": [
    "data_storage_directory = Path(r\"D:\\AllenBrainObservatory\\ophys_data\")"
   ]
  },
  {
   "cell_type": "code",
   "execution_count": null,
   "id": "1aa81afd",
   "metadata": {},
   "outputs": [],
   "source": [
    "here = Path(__file__).parent.absolute()\n",
    "Path.mkdir(here / \"figures\", exist_ok=True)\n",
    "cache = VisualBehaviorOphysProjectCache.from_s3_cache(cache_dir=data_storage_directory)"
   ]
  },
  {
   "cell_type": "code",
   "execution_count": null,
   "id": "f974301e",
   "metadata": {},
   "outputs": [],
   "source": [
    "def setup_container(table: pd.DataFrame) -> smr.RecordingContainer:\n",
    "    "
   ]
  }
 ],
 "metadata": {
  "kernelspec": {
   "display_name": "allendsk",
   "language": "python",
   "name": "allendsk"
  },
  "language_info": {
   "codemirror_mode": {
    "name": "ipython",
    "version": 3
   },
   "file_extension": ".py",
   "mimetype": "text/x-python",
   "name": "python",
   "nbconvert_exporter": "python",
   "pygments_lexer": "ipython3",
   "version": "3.8.0"
  }
 },
 "nbformat": 4,
 "nbformat_minor": 5
}
