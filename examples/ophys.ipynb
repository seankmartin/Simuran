{
 "cells": [
  {
   "cell_type": "code",
   "execution_count": null,
   "id": "skilled-absorption",
   "metadata": {},
   "outputs": [],
   "source": [
    "from pathlib import Path\n",
    "from typing import Optional, Union\n",
    "\n",
    "import simuran as smr\n",
    "from simuran.loaders.allen_loader import AllenOphysLoader\n",
    "\n",
    "from allensdk.brain_observatory.behavior.behavior_project_cache import (\n",
    "    VisualBehaviorOphysProjectCache,\n",
    ")\n",
    "import pandas as pd\n",
    "import dtale\n",
    "import matplotlib.pyplot as plt\n",
    "import numpy as np\n",
    "from skm_pyutils.print import print_h5"
   ]
  },
  {
   "cell_type": "code",
   "execution_count": null,
   "id": "f06dcfa0",
   "metadata": {},
   "outputs": [],
   "source": [
    "input_file_dir = Path(r\"D:\\AllenBrainObservatory\\ophys_data\")\n",
    "MANIFEST_VERSION = \"1.0.1\""
   ]
  },
  {
   "cell_type": "code",
   "execution_count": null,
   "id": "95306beb",
   "metadata": {},
   "outputs": [],
   "source": [
    "def get_path_to_nwb(session_id):\n",
    "    fname = (\n",
    "        input_file_dir\n",
    "        / f\"visual-behavior-ophys-{MANIFEST_VERSION}\"\n",
    "        / \"behavior_ophys_experiments\"\n",
    "        / f\"behavior_ophys_experiment_{session_id}.nwb\"\n",
    "    )\n",
    "    return fname"
   ]
  },
  {
   "cell_type": "code",
   "execution_count": null,
   "id": "df568425",
   "metadata": {},
   "outputs": [],
   "source": [
    "def setup_table(input_file_dir: Union[str, Path]) -> pd.DataFrame:\n",
    "    cache = VisualBehaviorOphysProjectCache.from_s3_cache(cache_dir=input_file_dir)\n",
    "    experiments = cache.get_ophys_experiment_table()\n",
    "    # dtale.show(experiments).open_browser()\n",
    "    return experiments\n",
    "\n",
    "def filter_table(table: pd.DataFrame, inplace: bool = True) -> pd.DataFrame:\n",
    "    \"\"\"\n",
    "    _summary_\n",
    "\n",
    "    Parameters\n",
    "    ----------\n",
    "    table : pd.DataFrame\n",
    "        _description_\n",
    "    inplace : bool, optional\n",
    "        _description_, by default True\n",
    "\n",
    "    Returns\n",
    "    -------\n",
    "    pd.DataFrame\n",
    "        _description_\n",
    "    \"\"\"\n",
    "    genotype = \"Slc17a7-IRES2-Cre/wt;Camk2a-tTA/wt;Ai93(TITL-GCaMP6f)/wt\"\n",
    "    # Alternatively\n",
    "    values = {\n",
    "        \"project_code\": [\"VisualBehaviorMultiscope\"],\n",
    "        \"full_genotype\": [genotype],\n",
    "    }\n",
    "    filters = []\n",
    "    for k, v in values.items():\n",
    "        filters.append(table[k].isin(v))\n",
    "    full_mask = np.logical_and.reduce(np.array(filters))\n",
    "    filtered_table = table[full_mask]\n",
    "    return filtered_table\n"
   ]
  },
  {
   "cell_type": "code",
   "execution_count": null,
   "id": "9f9162fe",
   "metadata": {},
   "outputs": [],
   "source": [
    "def establish_analysis(rec):\n",
    "    # Temp fn here\n",
    "    def print_info(recording, *args, **kwargs):\n",
    "        print(recording)\n",
    "        print(*args, **kwargs)\n",
    "        return vars(recording)\n",
    "\n",
    "    ah = smr.AnalysisHandler()\n",
    "    ah.add_fn(print_info, rec)\n",
    "\n",
    "    return ah"
   ]
  },
  {
   "cell_type": "code",
   "execution_count": null,
   "id": "eefcbd09",
   "metadata": {},
   "outputs": [],
   "source": [
    "cache = VisualBehaviorOphysProjectCache.from_s3_cache(cache_dir=input_file_dir)\n",
    "\n",
    "# Should support params in multiple formats of metadata\n",
    "table = setup_table(input_file_dir)\n",
    "\n",
    "# Step 2 - Read a filtered table, can explore with d-tale etc. before continuing (JASP)\n",
    "filtered_table = filter_table(table)\n",
    "# rc = RecordingContainer.from_table(filtered_table, \"allen\", AllenOphysLoader)\n",
    "# TODO I think this step is awkward\n",
    "\n",
    "# TODO TEMP let us check a single Allen first\n",
    "\n",
    "## This could be a data class to make it simpler\n",
    "for idx, row in filtered_table.iterrows():\n",
    "    row_as_dict = row.to_dict()\n",
    "    row_as_dict[filtered_table.index.name] = idx\n",
    "    break\n",
    "\n",
    "recording = smr.Recording()\n",
    "recording.loader = AllenOphysLoader(cache=cache)\n",
    "# loader2 = loader_from_str(\"allen_ophys\")(cache=cache)\n",
    "\n",
    "# TODO This should support different types, file, dict, series, etc\n",
    "recording.set_metadata(row_as_dict)\n",
    "\n",
    "# TODO this should come with params / loader setting\n",
    "recording.available = [\"signals\"]\n",
    "print(recording)\n",
    "\n",
    "## TODO is there a setup step? for recording to set paths?\n",
    "\n",
    "# This will call load in the background\n",
    "# If not already loaded\n",
    "# recording.get_blah()\n",
    "# Alternatively can call\n",
    "recording.new_load()"
   ]
  },
  {
   "cell_type": "code",
   "execution_count": null,
   "id": "1a497222",
   "metadata": {},
   "outputs": [],
   "source": [
    "dataset = recording.signals"
   ]
  },
  {
   "cell_type": "code",
   "execution_count": null,
   "id": "14e90575",
   "metadata": {},
   "outputs": [],
   "source": [
    "## Now let us do things with the table\n",
    "print(dataset.__dict__)\n",
    "print(dataset)"
   ]
  },
  {
   "cell_type": "code",
   "execution_count": null,
   "id": "751b51e4",
   "metadata": {},
   "outputs": [],
   "source": [
    "dataset.cell_specimen_table"
   ]
  },
  {
   "cell_type": "code",
   "execution_count": null,
   "id": "99cdb18e",
   "metadata": {},
   "outputs": [],
   "source": [
    "path_to_nwb = get_path_to_nwb(idx)\n",
    "path_to_nwb"
   ]
  },
  {
   "cell_type": "code",
   "execution_count": null,
   "id": "a3ff087f",
   "metadata": {},
   "outputs": [],
   "source": [
    "print_h5(path_to_nwb)"
   ]
  },
  {
   "cell_type": "code",
   "execution_count": null,
   "id": "f621df90",
   "metadata": {},
   "outputs": [],
   "source": [
    "type(dataset)"
   ]
  },
  {
   "cell_type": "code",
   "execution_count": null,
   "id": "14f7df5a",
   "metadata": {},
   "outputs": [],
   "source": [
    "print(dataset.to_nwb())"
   ]
  },
  {
   "cell_type": "code",
   "execution_count": null,
   "id": "d7215d02",
   "metadata": {},
   "outputs": [],
   "source": [
    "dff_traces = dataset.dff_traces\n",
    "print(dff_traces)\n",
    "ophys_timestamps = dataset.ophys_timestamps\n",
    "print(ophys_timestamps)\n",
    "print(dataset.metadata['ophys_frame_rate'])\n",
    "print(np.mean(np.diff(ophys_timestamps)))\n",
    "print(1 / 11.0)"
   ]
  },
  {
   "cell_type": "code",
   "execution_count": null,
   "id": "885af3db",
   "metadata": {},
   "outputs": [],
   "source": [
    "dataset.list_data_attributes_and_methods()"
   ]
  }
 ],
 "metadata": {
  "kernelspec": {
   "display_name": "allendsk",
   "language": "python",
   "name": "allendsk"
  },
  "language_info": {
   "codemirror_mode": {
    "name": "ipython",
    "version": 3
   },
   "file_extension": ".py",
   "mimetype": "text/x-python",
   "name": "python",
   "nbconvert_exporter": "python",
   "pygments_lexer": "ipython3",
   "version": "3.8.0"
  }
 },
 "nbformat": 4,
 "nbformat_minor": 5
}
