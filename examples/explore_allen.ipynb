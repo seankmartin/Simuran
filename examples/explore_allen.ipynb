{
 "cells": [
  {
   "cell_type": "code",
   "execution_count": 11,
   "metadata": {},
   "outputs": [],
   "source": [
    "from pathlib import Path\n",
    "\n",
    "import pandas as pd\n",
    "import numpy as np\n",
    "import dtale\n",
    "from allensdk.brain_observatory.ecephys.ecephys_project_cache import EcephysProjectCache"
   ]
  },
  {
   "cell_type": "code",
   "execution_count": 2,
   "metadata": {},
   "outputs": [],
   "source": [
    "data_path = r\"D:\\AllenBrainObservatory\\ephys_data\""
   ]
  },
  {
   "cell_type": "code",
   "execution_count": 3,
   "metadata": {},
   "outputs": [],
   "source": [
    "def load_allen():\n",
    "    data_directory = Path(data_path)\n",
    "    manifest_path = data_directory / \"manifest.json\"\n",
    "    cache = EcephysProjectCache.from_warehouse(\n",
    "        manifest=manifest_path, fetch_tries=1, timeout=20000\n",
    "    )\n",
    "    return cache"
   ]
  },
  {
   "cell_type": "code",
   "execution_count": 4,
   "metadata": {},
   "outputs": [],
   "source": [
    "cache = load_allen()"
   ]
  },
  {
   "cell_type": "code",
   "execution_count": 5,
   "metadata": {},
   "outputs": [
    {
     "name": "stdout",
     "output_type": "stream",
     "text": [
      "Help on EcephysProjectCache in module allensdk.brain_observatory.ecephys.ecephys_project_cache object:\n",
      "\n",
      "class EcephysProjectCache(allensdk.api.warehouse_cache.cache.Cache)\n",
      " |  EcephysProjectCache(fetch_api: Union[allensdk.brain_observatory.ecephys.ecephys_project_api.ecephys_project_api.EcephysProjectApi, NoneType] = None, fetch_tries: int = 2, stream_writer: Union[Callable, NoneType] = None, manifest: Union[str, pathlib.Path, NoneType] = None, version: Union[str, NoneType] = None, cache: bool = True)\n",
      " |  \n",
      " |  Method resolution order:\n",
      " |      EcephysProjectCache\n",
      " |      allensdk.api.warehouse_cache.cache.Cache\n",
      " |      builtins.object\n",
      " |  \n",
      " |  Methods defined here:\n",
      " |  \n",
      " |  __init__(self, fetch_api: Union[allensdk.brain_observatory.ecephys.ecephys_project_api.ecephys_project_api.EcephysProjectApi, NoneType] = None, fetch_tries: int = 2, stream_writer: Union[Callable, NoneType] = None, manifest: Union[str, pathlib.Path, NoneType] = None, version: Union[str, NoneType] = None, cache: bool = True)\n",
      " |      Entrypoint for accessing ecephys (neuropixels) data. Supports\n",
      " |      access to cross-session data (like stimulus templates) and high-level\n",
      " |      summaries of sessionwise data and provides tools for downloading detailed\n",
      " |      sessionwise data (such as spike times).\n",
      " |      \n",
      " |      To ensure correct configuration, it is recommended to use one of the\n",
      " |      class constructors rather than to initialize this class directly.\n",
      " |      \n",
      " |      Parameters\n",
      " |      ==========\n",
      " |      fetch_api : Optional[EcephysProjectApi]\n",
      " |          Used to pull data from remote sources, after which it is locally\n",
      " |          cached. Any object exposing the EcephysProjectApi interface is\n",
      " |          suitable. Standard options are:\n",
      " |              EcephysProjectWarehouseApi :: The default. Fetches publically\n",
      " |                  available Allen Institute data\n",
      " |              EcephysProjectFixedApi :: Refuses to fetch any data - only the\n",
      " |                  existing local cache is accessible. Useful if you want to\n",
      " |                  settle on a fixed dataset for analysis\n",
      " |              EcephysProjectLimsApi :: Fetches bleeding-edge data from the\n",
      " |                  Allen Institute's internal database. Only works if you are\n",
      " |                  on our internal network.\n",
      " |          By default None. If None, then fetch_api will be set to:\n",
      " |          EcephysProjectWarehouseApi.default()\n",
      " |      fetch_tries : int\n",
      " |          Maximum number of times to attempt a download before giving up and\n",
      " |          raising an exception. Note that this is total tries, not retries\n",
      " |      stream_writer: Callable\n",
      " |          The method used to write from stream. Depends on whether the\n",
      " |          engine is synchronous or asynchronous. If not set, will use the\n",
      " |          `write_bytes` method native to the `fetch_api`'s `rma_engine`.\n",
      " |          If the method is incompatible with the `fetch_api`'s `rma_engine`,\n",
      " |          will likely encounter errors. For this reason it is recommended\n",
      " |          to leave this field unspecified, or to use one of the class\n",
      " |          constructors.\n",
      " |      manifest : str or Path\n",
      " |          full path at which manifest json will be stored (default =\n",
      " |          \"ecephys_project_manifest.json\" in the local directory.)\n",
      " |      version : str\n",
      " |          version of manifest file. If this mismatches the version\n",
      " |          recorded in the file at manifest, an error will be raised.\n",
      " |      cache: bool\n",
      " |          Whether to write to the cache (default=True)\n",
      " |      \n",
      " |      Notes\n",
      " |      =====\n",
      " |      It is highly recommended to construct an instance of this class\n",
      " |      using one of the following constructor methods:\n",
      " |      \n",
      " |      from_warehouse(scheme: Optional[str] = None,\n",
      " |                     host: Optional[str] = None,\n",
      " |                     asynchronous: bool = True,\n",
      " |                     manifest: Optional[Union[str, Path]] = None,\n",
      " |                     version: Optional[str] = None,\n",
      " |                     cache: bool = True,\n",
      " |                     fetch_tries: int = 2)\n",
      " |          Create an instance of EcephysProjectCache with an\n",
      " |          EcephysProjectWarehouseApi. Retrieves released data stored\n",
      " |          in the warehouse. Suitable for all users downloading\n",
      " |          published Allen Institute data.\n",
      " |      from_lims(lims_credentials: Optional[DbCredentials] = None,\n",
      " |                scheme: Optional[str] = None,\n",
      " |                host: Optional[str] = None,\n",
      " |                asynchronous: bool = True,\n",
      " |                manifest: Optional[str] = None,\n",
      " |                version: Optional[str] = None,\n",
      " |                cache: bool = True,\n",
      " |                fetch_tries: int = 2)\n",
      " |          Create an instance of EcephysProjectCache with an\n",
      " |          EcephysProjectLimsApi. Retrieves bleeding-edge data stored\n",
      " |          locally on Allen Institute servers. Suitable for internal\n",
      " |          users on-site at the Allen Institute or using the corporate\n",
      " |          vpn. Requires Allen Institute database credentials.\n",
      " |      fixed(manifest: Optional[Union[str, Path]] = None,\n",
      " |            version: Optional[str] = None)\n",
      " |          Create an instance of EcephysProjectCache that will only\n",
      " |          use locally stored data, downloaded previously from LIMS\n",
      " |          or warehouse using the EcephysProjectCache.\n",
      " |          Suitable for users who want to analyze a fixed dataset they\n",
      " |          have previously downloaded using EcephysProjectCache.\n",
      " |  \n",
      " |  add_manifest_paths(self, manifest_builder)\n",
      " |      Add cache-class specific paths to the manifest. In derived classes,\n",
      " |      should call super.\n",
      " |  \n",
      " |  get_all_ages(self, **session_kwargs)\n",
      " |  \n",
      " |  get_all_full_genotypes(self, **session_kwargs)\n",
      " |  \n",
      " |  get_all_session_types(self, **session_kwargs)\n",
      " |  \n",
      " |  get_all_sexes(self, **session_kwargs)\n",
      " |  \n",
      " |  get_channels(self, suppress=None)\n",
      " |      Load (potentially downloading and caching) a table whose rows are individual channels.\n",
      " |  \n",
      " |  get_natural_movie_template(self, number)\n",
      " |  \n",
      " |  get_natural_scene_template(self, number)\n",
      " |  \n",
      " |  get_probes(self, suppress=None)\n",
      " |  \n",
      " |  get_session_data(self, session_id: int, filter_by_validity: bool = True, **unit_filter_kwargs)\n",
      " |      Obtain an EcephysSession object containing detailed data for a single session\n",
      " |  \n",
      " |  get_session_table(self, suppress=None) -> pandas.core.frame.DataFrame\n",
      " |  \n",
      " |  get_structure_acronyms(self, **channel_kwargs) -> List[str]\n",
      " |  \n",
      " |  get_unit_analysis_metrics_by_session_type(self, session_type, annotate: bool = True, filter_by_validity: bool = True, **unit_filter_kwargs)\n",
      " |      Cache and return a table of analysis metrics calculated on each unit from a specified session type. See\n",
      " |      get_all_session_types for a list of session types.\n",
      " |      \n",
      " |      Parameters\n",
      " |      ----------\n",
      " |      session_type : str\n",
      " |          identifies the session type for which to fetch analysis metrics.\n",
      " |      annotate : bool, optional\n",
      " |          if True, information from the annotated units table will be merged onto the outputs\n",
      " |      filter_by_validity : bool, optional\n",
      " |          Filter units used by analysis so that only 'valid' units are returned, by default True\n",
      " |      **unit_filter_kwargs :\n",
      " |          Additional keyword arguments that can be used to filter units (for power users).\n",
      " |      \n",
      " |      Returns\n",
      " |      -------\n",
      " |      metrics : pd.DataFrame\n",
      " |          Each row corresponds to a single unit, describing a set of analysis metrics calculated on that unit.\n",
      " |  \n",
      " |  get_unit_analysis_metrics_for_session(self, session_id, annotate: bool = True, filter_by_validity: bool = True, **unit_filter_kwargs)\n",
      " |      Cache and return a table of analysis metrics calculated on each unit from a specified session. See\n",
      " |      get_session_table for a list of sessions.\n",
      " |      \n",
      " |      Parameters\n",
      " |      ----------\n",
      " |      session_id : int\n",
      " |          identifies the session from which to fetch analysis metrics.\n",
      " |      annotate : bool, optional\n",
      " |          if True, information from the annotated units table will be merged onto the outputs\n",
      " |      filter_by_validity : bool, optional\n",
      " |          Filter units used by analysis so that only 'valid' units are returned, by default True\n",
      " |      **unit_filter_kwargs :\n",
      " |          Additional keyword arguments that can be used to filter units (for power users).\n",
      " |      \n",
      " |      Returns\n",
      " |      -------\n",
      " |      metrics : pd.DataFrame\n",
      " |          Each row corresponds to a single unit, describing a set of analysis metrics calculated on that unit.\n",
      " |  \n",
      " |  get_units(self, suppress: Union[List[str], NoneType] = None, filter_by_validity: bool = True, **unit_filter_kwargs) -> pandas.core.frame.DataFrame\n",
      " |      Reports a table consisting of all sorted units across the entire extracellular electrophysiology project.\n",
      " |      \n",
      " |      Parameters\n",
      " |      ----------\n",
      " |      suppress : Optional[List[str]], optional\n",
      " |          A list of dataframe column names to hide, by default None\n",
      " |          (None will hide dataframe columns specified in: SUPPRESS_FROM_UNITS)\n",
      " |      \n",
      " |      filter_by_validity : bool, optional\n",
      " |          Filter units so that only 'valid' units are returned, by default True\n",
      " |      \n",
      " |      **unit_filter_kwargs :\n",
      " |          Additional keyword arguments that can be used to filter units (for power users).\n",
      " |      \n",
      " |      Returns\n",
      " |      -------\n",
      " |      pd.DataFrame\n",
      " |          A table consisting of sorted units across the entire extracellular electrophysiology project\n",
      " |  \n",
      " |  ----------------------------------------------------------------------\n",
      " |  Class methods defined here:\n",
      " |  \n",
      " |  fixed(manifest: Union[str, pathlib.Path, NoneType] = None, version: Union[str, NoneType] = None) from builtins.type\n",
      " |      Creates a EcephysProjectCache that refuses to fetch any data\n",
      " |      - only the existing local cache is accessible. Useful if you\n",
      " |      want to settle on a fixed dataset for analysis.\n",
      " |      \n",
      " |      Parameters\n",
      " |      ==========\n",
      " |      manifest : str or Path\n",
      " |          full path to existing manifest json\n",
      " |      version : str\n",
      " |          version of manifest file. If this mismatches the version\n",
      " |          recorded in the file at manifest, an error will be raised.\n",
      " |  \n",
      " |  from_lims(lims_credentials: Union[allensdk.core.authentication.DbCredentials, NoneType] = None, scheme: Union[str, NoneType] = None, host: Union[str, NoneType] = None, asynchronous: bool = False, manifest: Union[str, pathlib.Path, NoneType] = None, version: Union[str, NoneType] = None, cache: bool = True, fetch_tries: int = 2) from builtins.type\n",
      " |      Create an instance of EcephysProjectCache with an\n",
      " |      EcephysProjectLimsApi. Retrieves bleeding-edge data stored\n",
      " |      locally on Allen Institute servers. Only available for use\n",
      " |      on-site at the Allen Institute or through a vpn. Requires Allen\n",
      " |      Institute database credentials.\n",
      " |      \n",
      " |      Parameters\n",
      " |      ==========\n",
      " |      lims_credentials : DbCredentials\n",
      " |          Credentials to access LIMS database. If not provided will\n",
      " |          attempt to find credentials in environment variables.\n",
      " |      scheme : str\n",
      " |          URI scheme, such as \"http\". Defaults to\n",
      " |          EcephysProjectLimsApi.default value if unspecified.\n",
      " |          Will not be used unless `host` is also specified.\n",
      " |      host : str\n",
      " |          Web host. Defaults to EcephysProjectLimsApi.default\n",
      " |          value if unspecified. Will not be used unless `scheme` is\n",
      " |          also specified.\n",
      " |      asynchronous : bool\n",
      " |          Whether to fetch file asynchronously. Defaults to False.\n",
      " |      manifest : str or Path\n",
      " |          full path at which manifest json will be stored\n",
      " |      version : str\n",
      " |          version of manifest file. If this mismatches the version\n",
      " |          recorded in the file at manifest, an error will be raised.\n",
      " |      cache: bool\n",
      " |          Whether to write to the cache (default=True)\n",
      " |      fetch_tries : int\n",
      " |          Maximum number of times to attempt a download before giving up and\n",
      " |          raising an exception. Note that this is total tries, not retries\n",
      " |  \n",
      " |  from_warehouse(scheme: Union[str, NoneType] = None, host: Union[str, NoneType] = None, asynchronous: bool = False, manifest: Union[str, pathlib.Path, NoneType] = None, version: Union[str, NoneType] = None, cache: bool = True, fetch_tries: int = 2, timeout: int = 1200) from builtins.type\n",
      " |      Create an instance of EcephysProjectCache with an\n",
      " |      EcephysProjectWarehouseApi. Retrieves released data stored in\n",
      " |      the warehouse.\n",
      " |      \n",
      " |      Parameters\n",
      " |      ==========\n",
      " |      scheme : str\n",
      " |          URI scheme, such as \"http\". Defaults to\n",
      " |          EcephysProjectWarehouseAPI.default value if unspecified.\n",
      " |          Will not be used unless `host` is also specified.\n",
      " |      host : str\n",
      " |          Web host. Defaults to EcephysProjectWarehouseApi.default\n",
      " |          value if unspecified. Will not be used unless `scheme` is also\n",
      " |          specified.\n",
      " |      asynchronous : bool\n",
      " |          Whether to fetch file asynchronously. Defaults to False.\n",
      " |      manifest : str or Path\n",
      " |          full path at which manifest json will be stored\n",
      " |      version : str\n",
      " |          version of manifest file. If this mismatches the version\n",
      " |          recorded in the file at manifest, an error will be raised.\n",
      " |      cache: bool\n",
      " |          Whether to write to the cache (default=True)\n",
      " |      fetch_tries : int\n",
      " |          Maximum number of times to attempt a download before giving up and\n",
      " |          raising an exception. Note that this is total tries, not retries\n",
      " |      timeout : int\n",
      " |          Amount of time (in seconds) to wait on an HTTP request before raising\n",
      " |          an error. Increase this duration if you find that warehouse servers\n",
      " |          are not responding quickly. Defaults to 1200 seconds (20 minutes).\n",
      " |  \n",
      " |  ----------------------------------------------------------------------\n",
      " |  Data and other attributes defined here:\n",
      " |  \n",
      " |  CHANNELS_KEY = 'channels'\n",
      " |  \n",
      " |  MANIFEST_VERSION = '0.3.0'\n",
      " |  \n",
      " |  NATURAL_MOVIE_DIR_KEY = 'movie_dir'\n",
      " |  \n",
      " |  NATURAL_MOVIE_KEY = 'natural_movie'\n",
      " |  \n",
      " |  NATURAL_SCENE_DIR_KEY = 'natural_scene_dir'\n",
      " |  \n",
      " |  NATURAL_SCENE_KEY = 'natural_scene'\n",
      " |  \n",
      " |  PROBES_KEY = 'probes'\n",
      " |  \n",
      " |  PROBE_LFP_NWB_KEY = 'probe_lfp_nwb'\n",
      " |  \n",
      " |  SESSIONS_KEY = 'sessions'\n",
      " |  \n",
      " |  SESSION_ANALYSIS_METRICS_KEY = 'session_analysis_metrics'\n",
      " |  \n",
      " |  SESSION_DIR_KEY = 'session_data'\n",
      " |  \n",
      " |  SESSION_NWB_KEY = 'session_nwb'\n",
      " |  \n",
      " |  SUPPRESS_FROM_CHANNELS = ('air_channel_index', 'surface_channel_index'...\n",
      " |  \n",
      " |  SUPPRESS_FROM_PROBES = ('air_channel_index', 'surface_channel_index', ...\n",
      " |  \n",
      " |  SUPPRESS_FROM_SESSION_TABLE = ('has_nwb', 'isi_experiment_id', 'date_o...\n",
      " |  \n",
      " |  SUPPRESS_FROM_UNITS = ('air_channel_index', 'surface_channel_index', '...\n",
      " |  \n",
      " |  TYPEWISE_ANALYSIS_METRICS_KEY = 'typewise_analysis_metrics'\n",
      " |  \n",
      " |  UNITS_KEY = 'units'\n",
      " |  \n",
      " |  ----------------------------------------------------------------------\n",
      " |  Methods inherited from allensdk.api.warehouse_cache.cache.Cache:\n",
      " |  \n",
      " |  build_manifest(self, file_name)\n",
      " |      Creation of default path specifications.\n",
      " |      \n",
      " |      Parameters\n",
      " |      ----------\n",
      " |      file_name : string\n",
      " |          where to save it\n",
      " |  \n",
      " |  get_cache_path(self, file_name, manifest_key, *args)\n",
      " |      Helper method for accessing path specs from manifest keys.\n",
      " |      \n",
      " |      Parameters\n",
      " |      ----------\n",
      " |      file_name : string\n",
      " |      manifest_key : string\n",
      " |      args : ordered parameters\n",
      " |      \n",
      " |      Returns\n",
      " |      -------\n",
      " |      string or None\n",
      " |          path\n",
      " |  \n",
      " |  load_csv(self, path, rename=None, index=None)\n",
      " |      Read a csv file as a pandas dataframe.\n",
      " |      \n",
      " |      Parameters\n",
      " |      ----------\n",
      " |      rename : list of string tuples (new old), optional\n",
      " |          columns to rename\n",
      " |      index : string, optional\n",
      " |          post-rename column to use as the row label.\n",
      " |  \n",
      " |  load_json(self, path, rename=None, index=None)\n",
      " |      Read a json file as a pandas dataframe.\n",
      " |      \n",
      " |      Parameters\n",
      " |      ----------\n",
      " |      rename : list of string tuples (new old), optional\n",
      " |          columns to rename\n",
      " |      index : string, optional\n",
      " |          post-rename column to use as the row label.\n",
      " |  \n",
      " |  load_manifest(self, file_name, version=None)\n",
      " |      Read a keyed collection of path specifications.\n",
      " |      \n",
      " |      Parameters\n",
      " |      ----------\n",
      " |      file_name : string\n",
      " |          path to the manifest file\n",
      " |      \n",
      " |      Returns\n",
      " |      -------\n",
      " |      Manifest\n",
      " |  \n",
      " |  manifest_dataframe(self)\n",
      " |      Convenience method to view manifest as a pandas dataframe.\n",
      " |  \n",
      " |  wrap(self, fn, path, cache, save_as_json=True, return_dataframe=False, index=None, rename=None, **kwargs)\n",
      " |      make an rma query, save it and return the dataframe.\n",
      " |      \n",
      " |      Parameters\n",
      " |      ----------\n",
      " |      fn : function reference\n",
      " |          makes the actual query using kwargs.\n",
      " |      path : string\n",
      " |          where to save the data\n",
      " |      cache : boolean\n",
      " |          True will make the query, False just loads from disk\n",
      " |      save_as_json : boolean, optional\n",
      " |          True (default) will save data as json, False as csv\n",
      " |      return_dataframe : boolean, optional\n",
      " |          True will cast the return value to a pandas dataframe,\n",
      " |          False (default) will not\n",
      " |      index : string, optional\n",
      " |          column to use as the pandas index\n",
      " |      rename : list of string tuples, optional\n",
      " |          (new, old) columns to rename\n",
      " |      kwargs : objects\n",
      " |          passed through to the query function\n",
      " |      \n",
      " |      Returns\n",
      " |      -------\n",
      " |      dict or DataFrame\n",
      " |          data type depends on return_dataframe option.\n",
      " |      \n",
      " |      Notes\n",
      " |      -----\n",
      " |      Column renaming happens after the file is reloaded for json\n",
      " |  \n",
      " |  ----------------------------------------------------------------------\n",
      " |  Static methods inherited from allensdk.api.warehouse_cache.cache.Cache:\n",
      " |  \n",
      " |  cache_csv()\n",
      " |  \n",
      " |  cache_csv_dataframe()\n",
      " |  \n",
      " |  cache_csv_json()\n",
      " |  \n",
      " |  cache_json()\n",
      " |  \n",
      " |  cache_json_dataframe()\n",
      " |  \n",
      " |  cacher(fn, *args, **kwargs)\n",
      " |      make an rma query, save it and return the dataframe.\n",
      " |      \n",
      " |      Parameters\n",
      " |      ----------\n",
      " |      fn : function reference\n",
      " |          makes the actual query using kwargs.\n",
      " |      path : string\n",
      " |          where to save the data\n",
      " |      strategy : string or None, optional\n",
      " |          'create' always generates the data,\n",
      " |          'file' loads from disk,\n",
      " |          'lazy' queries the server if no file exists,\n",
      " |          None generates the data and bypasses all caching behavior\n",
      " |      pre : function\n",
      " |          df|json->df|json, takes one data argument and returns\n",
      " |          filtered version, None for pass-through\n",
      " |      post : function\n",
      " |          df|json->?, takes one data argument and returns Object\n",
      " |      reader : function, optional\n",
      " |          path -> data, default NOP\n",
      " |      writer : function, optional\n",
      " |          path, data -> None, default NOP\n",
      " |      kwargs : objects\n",
      " |          passed through to the query function\n",
      " |      \n",
      " |      Returns\n",
      " |      -------\n",
      " |      Object or None\n",
      " |          data type depends on fn, reader and/or post methods.\n",
      " |  \n",
      " |  csv_writer(pth, gen)\n",
      " |  \n",
      " |  json_remove_keys(data, keys)\n",
      " |  \n",
      " |  json_rename_columns(data, new_old_name_tuples=None)\n",
      " |      Convenience method to rename columns in a pandas dataframe.\n",
      " |      \n",
      " |      Parameters\n",
      " |      ----------\n",
      " |      data : dataframe\n",
      " |          edited in place.\n",
      " |      new_old_name_tuples : list of string tuples (new, old)\n",
      " |  \n",
      " |  nocache_dataframe()\n",
      " |  \n",
      " |  nocache_json()\n",
      " |  \n",
      " |  pathfinder(file_name_position, secondary_file_name_position=None, path_keyword=None)\n",
      " |      helper method to find path argument in legacy methods written\n",
      " |      prior to the @cacheable decorator.  Do not use for new\n",
      " |      @cacheable methods.\n",
      " |      \n",
      " |      Parameters\n",
      " |      ----------\n",
      " |      file_name_position : integer\n",
      " |          zero indexed position in the decorated method args\n",
      " |          where file path may be found.\n",
      " |      secondary_file_name_position : integer\n",
      " |          zero indexed position in the decorated method args where\n",
      " |          the file path may be found.\n",
      " |      path_keyword : string\n",
      " |          kwarg that may have the file path.\n",
      " |      \n",
      " |      Notes\n",
      " |      -----\n",
      " |      This method is only intended to provide backward-compatibility\n",
      " |      for some methods that otherwise do not follow the path conventions\n",
      " |      of the @cacheable decorator.\n",
      " |  \n",
      " |  remove_keys(data, keys=None)\n",
      " |      DataFrame version\n",
      " |  \n",
      " |  rename_columns(data, new_old_name_tuples=None)\n",
      " |      Convenience method to rename columns in a pandas dataframe.\n",
      " |      \n",
      " |      Parameters\n",
      " |      ----------\n",
      " |      data : dataframe\n",
      " |          edited in place.\n",
      " |      new_old_name_tuples : list of string tuples (new, old)\n",
      " |  \n",
      " |  ----------------------------------------------------------------------\n",
      " |  Data descriptors inherited from allensdk.api.warehouse_cache.cache.Cache:\n",
      " |  \n",
      " |  __dict__\n",
      " |      dictionary for instance variables (if defined)\n",
      " |  \n",
      " |  __weakref__\n",
      " |      list of weak references to the object (if defined)\n",
      "\n"
     ]
    }
   ],
   "source": [
    "# Allen sdk help\n",
    "help(cache)"
   ]
  },
  {
   "cell_type": "code",
   "execution_count": 6,
   "metadata": {
    "scrolled": false
   },
   "outputs": [
    {
     "data": {
      "text/html": [
       "\n",
       "        <iframe\n",
       "            width=\"100%\"\n",
       "            height=\"475\"\n",
       "            src=\"http://DESKTOP-52GJGT1:40000/dtale/iframe/1\"\n",
       "            frameborder=\"0\"\n",
       "            allowfullscreen\n",
       "            \n",
       "        ></iframe>\n",
       "        "
      ],
      "text/plain": [
       "<IPython.lib.display.IFrame at 0x1b8ad916a00>"
      ]
     },
     "metadata": {},
     "output_type": "display_data"
    },
    {
     "data": {
      "text/plain": []
     },
     "execution_count": 6,
     "metadata": {},
     "output_type": "execute_result"
    }
   ],
   "source": [
    "sessions = cache.get_session_table()\n",
    "\n",
    "d = dtale.show(sessions)\n",
    "# d.open_browser()\n",
    "d"
   ]
  },
  {
   "cell_type": "code",
   "execution_count": 7,
   "metadata": {},
   "outputs": [
    {
     "name": "stderr",
     "output_type": "stream",
     "text": [
      "2022-04-07 15:22:16,415 - INFO     - Reading data from cache\n",
      "2022-04-07 15:22:16,420 - INFO     - Reading data from cache\n",
      "2022-04-07 15:22:16,427 - INFO     - Reading data from cache\n",
      "2022-04-07 15:22:17,146 - INFO     - Reading data from cache\n",
      "2022-04-07 15:22:17,245 - INFO     - Reading data from cache\n",
      "2022-04-07 15:22:17,250 - INFO     - Reading data from cache\n",
      "2022-04-07 15:22:17,401 - INFO     - Reading data from cache\n",
      "2022-04-07 15:22:17,505 - INFO     - Reading data from cache\n",
      "2022-04-07 15:22:17,509 - INFO     - Reading data from cache\n",
      "2022-04-07 15:22:17,548 - INFO     - Reading data from cache\n",
      "2022-04-07 15:22:17,648 - INFO     - Reading data from cache\n",
      "2022-04-07 15:22:17,652 - INFO     - Reading data from cache\n"
     ]
    },
    {
     "data": {
      "text/html": [
       "\n",
       "        <iframe\n",
       "            width=\"100%\"\n",
       "            height=\"475\"\n",
       "            src=\"http://DESKTOP-52GJGT1:40000/dtale/iframe/2\"\n",
       "            frameborder=\"0\"\n",
       "            allowfullscreen\n",
       "            \n",
       "        ></iframe>\n",
       "        "
      ],
      "text/plain": [
       "<IPython.lib.display.IFrame at 0x1b8ae43ec70>"
      ]
     },
     "metadata": {},
     "output_type": "display_data"
    },
    {
     "data": {
      "text/plain": []
     },
     "execution_count": 7,
     "metadata": {},
     "output_type": "execute_result"
    }
   ],
   "source": [
    "probes = cache.get_probes()\n",
    "\n",
    "dtale.show(probes)"
   ]
  },
  {
   "cell_type": "code",
   "execution_count": 8,
   "metadata": {},
   "outputs": [
    {
     "name": "stderr",
     "output_type": "stream",
     "text": [
      "2022-04-07 15:22:46,442 - INFO     - Reading data from cache\n",
      "2022-04-07 15:22:46,571 - INFO     - Reading data from cache\n",
      "2022-04-07 15:22:46,575 - INFO     - Reading data from cache\n",
      "2022-04-07 15:22:46,606 - INFO     - Reading data from cache\n",
      "2022-04-07 15:22:47,446 - INFO     - Reading data from cache\n",
      "2022-04-07 15:22:47,559 - INFO     - Reading data from cache\n",
      "2022-04-07 15:22:47,563 - INFO     - Reading data from cache\n"
     ]
    },
    {
     "data": {
      "text/html": [
       "\n",
       "        <iframe\n",
       "            width=\"100%\"\n",
       "            height=\"475\"\n",
       "            src=\"http://DESKTOP-52GJGT1:40000/dtale/iframe/3\"\n",
       "            frameborder=\"0\"\n",
       "            allowfullscreen\n",
       "            \n",
       "        ></iframe>\n",
       "        "
      ],
      "text/plain": [
       "<IPython.lib.display.IFrame at 0x1b8ae4ca6a0>"
      ]
     },
     "metadata": {},
     "output_type": "display_data"
    },
    {
     "data": {
      "text/plain": []
     },
     "execution_count": 8,
     "metadata": {},
     "output_type": "execute_result"
    }
   ],
   "source": [
    "channels = cache.get_channels()\n",
    "dtale.show(channels)"
   ]
  },
  {
   "cell_type": "code",
   "execution_count": 9,
   "metadata": {},
   "outputs": [
    {
     "name": "stderr",
     "output_type": "stream",
     "text": [
      "2022-04-07 15:23:18,866 - INFO     - Reading data from cache\n",
      "2022-04-07 15:23:19,783 - INFO     - Reading data from cache\n",
      "2022-04-07 15:23:19,916 - INFO     - Reading data from cache\n",
      "2022-04-07 15:23:19,920 - INFO     - Reading data from cache\n"
     ]
    },
    {
     "data": {
      "text/html": [
       "\n",
       "        <iframe\n",
       "            width=\"100%\"\n",
       "            height=\"475\"\n",
       "            src=\"http://DESKTOP-52GJGT1:40000/dtale/iframe/4\"\n",
       "            frameborder=\"0\"\n",
       "            allowfullscreen\n",
       "            \n",
       "        ></iframe>\n",
       "        "
      ],
      "text/plain": [
       "<IPython.lib.display.IFrame at 0x1b8b070bcd0>"
      ]
     },
     "metadata": {},
     "output_type": "display_data"
    },
    {
     "data": {
      "text/plain": []
     },
     "execution_count": 9,
     "metadata": {},
     "output_type": "execute_result"
    }
   ],
   "source": [
    "units = cache.get_units()\n",
    "dtale.show(units)"
   ]
  },
  {
   "cell_type": "code",
   "execution_count": 12,
   "metadata": {},
   "outputs": [
    {
     "name": "stderr",
     "output_type": "stream",
     "text": [
      "2022-04-07 15:25:58,236 - INFO     - Reading data from cache\n",
      "2022-04-07 15:25:58,240 - INFO     - Reading data from cache\n",
      "2022-04-07 15:25:59,086 - INFO     - Reading data from cache\n",
      "2022-04-07 15:25:59,217 - INFO     - Reading data from cache\n",
      "2022-04-07 15:25:59,223 - INFO     - Reading data from cache\n",
      "2022-04-07 15:25:59,434 - INFO     - Reading data from cache\n",
      "2022-04-07 15:25:59,549 - INFO     - Reading data from cache\n",
      "2022-04-07 15:25:59,553 - INFO     - Reading data from cache\n",
      "2022-04-07 15:25:59,600 - INFO     - Reading data from cache\n",
      "2022-04-07 15:25:59,605 - INFO     - Reading data from cache\n",
      "2022-04-07 15:25:59,617 - INFO     - Reading data from cache\n",
      "2022-04-07 15:25:59,753 - INFO     - Reading data from cache\n",
      "2022-04-07 15:25:59,758 - INFO     - Reading data from cache\n",
      "2022-04-07 15:25:59,868 - INFO     - Reading data from cache\n",
      "2022-04-07 15:26:01,147 - INFO     - Reading data from cache\n",
      "2022-04-07 15:26:02,040 - INFO     - Reading data from cache\n",
      "2022-04-07 15:26:02,171 - INFO     - Reading data from cache\n",
      "2022-04-07 15:26:02,175 - INFO     - Reading data from cache\n",
      "2022-04-07 15:26:02,523 - INFO     - Reading data from cache\n",
      "2022-04-07 15:26:02,528 - INFO     - Reading data from cache\n",
      "2022-04-07 15:26:03,334 - INFO     - Reading data from cache\n",
      "2022-04-07 15:26:03,482 - INFO     - Reading data from cache\n",
      "2022-04-07 15:26:03,487 - INFO     - Reading data from cache\n",
      "2022-04-07 15:26:03,681 - INFO     - Reading data from cache\n",
      "2022-04-07 15:26:03,807 - INFO     - Reading data from cache\n",
      "2022-04-07 15:26:03,811 - INFO     - Reading data from cache\n",
      "2022-04-07 15:26:03,857 - INFO     - Reading data from cache\n",
      "2022-04-07 15:26:03,863 - INFO     - Reading data from cache\n",
      "2022-04-07 15:26:03,877 - INFO     - Reading data from cache\n",
      "2022-04-07 15:26:03,992 - INFO     - Reading data from cache\n",
      "2022-04-07 15:26:03,998 - INFO     - Reading data from cache\n",
      "2022-04-07 15:26:04,099 - INFO     - Reading data from cache\n",
      "2022-04-07 15:26:04,672 - INFO     - Reading data from cache\n",
      "2022-04-07 15:26:06,257 - INFO     - Reading data from cache\n",
      "2022-04-07 15:26:06,393 - INFO     - Reading data from cache\n",
      "2022-04-07 15:26:06,397 - INFO     - Reading data from cache\n"
     ]
    },
    {
     "data": {
      "text/html": [
       "\n",
       "        <iframe\n",
       "            width=\"100%\"\n",
       "            height=\"475\"\n",
       "            src=\"http://DESKTOP-52GJGT1:40000/dtale/iframe/5\"\n",
       "            frameborder=\"0\"\n",
       "            allowfullscreen\n",
       "            \n",
       "        ></iframe>\n",
       "        "
      ],
      "text/plain": [
       "<IPython.lib.display.IFrame at 0x1b8ad8f9460>"
      ]
     },
     "metadata": {},
     "output_type": "display_data"
    },
    {
     "data": {
      "text/plain": []
     },
     "execution_count": 12,
     "metadata": {},
     "output_type": "execute_result"
    }
   ],
   "source": [
    "analysis_metrics1 = cache.get_unit_analysis_metrics_by_session_type(\n",
    "    \"brain_observatory_1.1\",\n",
    "    amplitude_cutoff_maximum=np.inf,\n",
    "    presence_ratio_minimum=-np.inf,\n",
    "    isi_violations_maximum=np.inf,\n",
    ")\n",
    "\n",
    "analysis_metrics2 = cache.get_unit_analysis_metrics_by_session_type(\n",
    "    \"functional_connectivity\",\n",
    "    amplitude_cutoff_maximum=np.inf,\n",
    "    presence_ratio_minimum=-np.inf,\n",
    "    isi_violations_maximum=np.inf,\n",
    ")\n",
    "\n",
    "all_metrics = pd.concat([analysis_metrics1, analysis_metrics2], sort=False)\n",
    "dtale.show(all_metrics)"
   ]
  },
  {
   "cell_type": "code",
   "execution_count": 19,
   "metadata": {},
   "outputs": [],
   "source": [
    "from allensdk.brain_observatory.behavior.behavior_project_cache import VisualBehaviorOphysProjectCache"
   ]
  },
  {
   "cell_type": "code",
   "execution_count": 20,
   "metadata": {},
   "outputs": [],
   "source": [
    "data_storage_directory = Path(r\"D:\\AllenBrainObservatory\\ophys_data\")\n",
    "cache = VisualBehaviorOphysProjectCache.from_s3_cache(cache_dir=data_storage_directory)"
   ]
  },
  {
   "cell_type": "code",
   "execution_count": 21,
   "metadata": {},
   "outputs": [],
   "source": [
    "behavior_sessions = cache.get_behavior_session_table()\n",
    "behavior_ophys_sessions = cache.get_ophys_session_table()\n",
    "behavior_ophys_experiments = cache.get_ophys_experiment_table()"
   ]
  },
  {
   "cell_type": "code",
   "execution_count": 22,
   "metadata": {},
   "outputs": [
    {
     "data": {
      "text/html": [
       "\n",
       "        <iframe\n",
       "            width=\"100%\"\n",
       "            height=\"475\"\n",
       "            src=\"http://DESKTOP-52GJGT1:40000/dtale/iframe/6\"\n",
       "            frameborder=\"0\"\n",
       "            allowfullscreen\n",
       "            \n",
       "        ></iframe>\n",
       "        "
      ],
      "text/plain": [
       "<IPython.lib.display.IFrame at 0x1b8ae257ac0>"
      ]
     },
     "metadata": {},
     "output_type": "display_data"
    },
    {
     "data": {
      "text/plain": []
     },
     "execution_count": 22,
     "metadata": {},
     "output_type": "execute_result"
    }
   ],
   "source": [
    "dtale.show(behavior_ophys_sessions)"
   ]
  },
  {
   "cell_type": "code",
   "execution_count": 23,
   "metadata": {},
   "outputs": [
    {
     "data": {
      "text/html": [
       "\n",
       "        <iframe\n",
       "            width=\"100%\"\n",
       "            height=\"475\"\n",
       "            src=\"http://DESKTOP-52GJGT1:40000/dtale/iframe/7\"\n",
       "            frameborder=\"0\"\n",
       "            allowfullscreen\n",
       "            \n",
       "        ></iframe>\n",
       "        "
      ],
      "text/plain": [
       "<IPython.lib.display.IFrame at 0x1b8ada6f070>"
      ]
     },
     "metadata": {},
     "output_type": "display_data"
    },
    {
     "data": {
      "text/plain": []
     },
     "execution_count": 23,
     "metadata": {},
     "output_type": "execute_result"
    },
    {
     "name": "stdout",
     "output_type": "stream",
     "text": [
      "Executing shutdown due to inactivity...\n"
     ]
    },
    {
     "name": "stderr",
     "output_type": "stream",
     "text": [
      "2022-04-07 16:38:21,595 - INFO     - Executing shutdown due to inactivity...\n"
     ]
    },
    {
     "name": "stdout",
     "output_type": "stream",
     "text": [
      "Executing shutdown...\n"
     ]
    },
    {
     "name": "stderr",
     "output_type": "stream",
     "text": [
      "2022-04-07 16:38:50,814 - INFO     - Executing shutdown...\n"
     ]
    },
    {
     "name": "stdout",
     "output_type": "stream",
     "text": [
      "Exception on /shutdown [GET]\n",
      "Traceback (most recent call last):\n",
      "  File \"E:\\virtualenvs\\allensdk\\lib\\site-packages\\flask\\app.py\", line 2077, in wsgi_app\n",
      "    response = self.full_dispatch_request()\n",
      "  File \"E:\\virtualenvs\\allensdk\\lib\\site-packages\\flask\\app.py\", line 1525, in full_dispatch_request\n",
      "    rv = self.handle_user_exception(e)\n",
      "  File \"E:\\virtualenvs\\allensdk\\lib\\site-packages\\flask\\app.py\", line 1523, in full_dispatch_request\n",
      "    rv = self.dispatch_request()\n",
      "  File \"E:\\virtualenvs\\allensdk\\lib\\site-packages\\flask\\app.py\", line 1509, in dispatch_request\n",
      "    return self.ensure_sync(self.view_functions[rule.endpoint])(**req.view_args)\n",
      "  File \"E:\\virtualenvs\\allensdk\\lib\\site-packages\\dtale\\app.py\", line 410, in shutdown\n",
      "    shutdown_server()\n",
      "  File \"E:\\virtualenvs\\allensdk\\lib\\site-packages\\dtale\\app.py\", line 396, in shutdown_server\n",
      "    raise RuntimeError(\"Not running with the Werkzeug Server\")\n",
      "RuntimeError: Not running with the Werkzeug Server\n"
     ]
    },
    {
     "name": "stderr",
     "output_type": "stream",
     "text": [
      "2022-04-07 16:38:50,819 - ERROR    - Exception on /shutdown [GET]\n",
      "Traceback (most recent call last):\n",
      "  File \"E:\\virtualenvs\\allensdk\\lib\\site-packages\\flask\\app.py\", line 2077, in wsgi_app\n",
      "    response = self.full_dispatch_request()\n",
      "  File \"E:\\virtualenvs\\allensdk\\lib\\site-packages\\flask\\app.py\", line 1525, in full_dispatch_request\n",
      "    rv = self.handle_user_exception(e)\n",
      "  File \"E:\\virtualenvs\\allensdk\\lib\\site-packages\\flask\\app.py\", line 1523, in full_dispatch_request\n",
      "    rv = self.dispatch_request()\n",
      "  File \"E:\\virtualenvs\\allensdk\\lib\\site-packages\\flask\\app.py\", line 1509, in dispatch_request\n",
      "    return self.ensure_sync(self.view_functions[rule.endpoint])(**req.view_args)\n",
      "  File \"E:\\virtualenvs\\allensdk\\lib\\site-packages\\dtale\\app.py\", line 410, in shutdown\n",
      "    shutdown_server()\n",
      "  File \"E:\\virtualenvs\\allensdk\\lib\\site-packages\\dtale\\app.py\", line 396, in shutdown_server\n",
      "    raise RuntimeError(\"Not running with the Werkzeug Server\")\n",
      "RuntimeError: Not running with the Werkzeug Server\n"
     ]
    },
    {
     "name": "stdout",
     "output_type": "stream",
     "text": [
      "Executing shutdown due to inactivity...\n"
     ]
    },
    {
     "name": "stderr",
     "output_type": "stream",
     "text": [
      "2022-04-07 18:52:22,982 - INFO     - Executing shutdown due to inactivity...\n"
     ]
    },
    {
     "name": "stdout",
     "output_type": "stream",
     "text": [
      "Executing shutdown...\n"
     ]
    },
    {
     "name": "stderr",
     "output_type": "stream",
     "text": [
      "2022-04-07 18:52:51,704 - INFO     - Executing shutdown...\n"
     ]
    },
    {
     "name": "stdout",
     "output_type": "stream",
     "text": [
      "Exception on /shutdown [GET]\n",
      "Traceback (most recent call last):\n",
      "  File \"E:\\virtualenvs\\allensdk\\lib\\site-packages\\flask\\app.py\", line 2077, in wsgi_app\n",
      "    response = self.full_dispatch_request()\n",
      "  File \"E:\\virtualenvs\\allensdk\\lib\\site-packages\\flask\\app.py\", line 1525, in full_dispatch_request\n",
      "    rv = self.handle_user_exception(e)\n",
      "  File \"E:\\virtualenvs\\allensdk\\lib\\site-packages\\flask\\app.py\", line 1523, in full_dispatch_request\n",
      "    rv = self.dispatch_request()\n",
      "  File \"E:\\virtualenvs\\allensdk\\lib\\site-packages\\flask\\app.py\", line 1509, in dispatch_request\n",
      "    return self.ensure_sync(self.view_functions[rule.endpoint])(**req.view_args)\n",
      "  File \"E:\\virtualenvs\\allensdk\\lib\\site-packages\\dtale\\app.py\", line 410, in shutdown\n",
      "    shutdown_server()\n",
      "  File \"E:\\virtualenvs\\allensdk\\lib\\site-packages\\dtale\\app.py\", line 396, in shutdown_server\n",
      "    raise RuntimeError(\"Not running with the Werkzeug Server\")\n",
      "RuntimeError: Not running with the Werkzeug Server\n"
     ]
    },
    {
     "name": "stderr",
     "output_type": "stream",
     "text": [
      "2022-04-07 18:52:51,724 - ERROR    - Exception on /shutdown [GET]\n",
      "Traceback (most recent call last):\n",
      "  File \"E:\\virtualenvs\\allensdk\\lib\\site-packages\\flask\\app.py\", line 2077, in wsgi_app\n",
      "    response = self.full_dispatch_request()\n",
      "  File \"E:\\virtualenvs\\allensdk\\lib\\site-packages\\flask\\app.py\", line 1525, in full_dispatch_request\n",
      "    rv = self.handle_user_exception(e)\n",
      "  File \"E:\\virtualenvs\\allensdk\\lib\\site-packages\\flask\\app.py\", line 1523, in full_dispatch_request\n",
      "    rv = self.dispatch_request()\n",
      "  File \"E:\\virtualenvs\\allensdk\\lib\\site-packages\\flask\\app.py\", line 1509, in dispatch_request\n",
      "    return self.ensure_sync(self.view_functions[rule.endpoint])(**req.view_args)\n",
      "  File \"E:\\virtualenvs\\allensdk\\lib\\site-packages\\dtale\\app.py\", line 410, in shutdown\n",
      "    shutdown_server()\n",
      "  File \"E:\\virtualenvs\\allensdk\\lib\\site-packages\\dtale\\app.py\", line 396, in shutdown_server\n",
      "    raise RuntimeError(\"Not running with the Werkzeug Server\")\n",
      "RuntimeError: Not running with the Werkzeug Server\n"
     ]
    }
   ],
   "source": [
    "dtale.show(behavior_ophys_experiments)"
   ]
  }
 ],
 "metadata": {
  "interpreter": {
   "hash": "23e06a71324bc62252ef4f54ef852b248ed4a7e67564e283eac19e689a0f7051"
  },
  "kernelspec": {
   "display_name": "allendsk",
   "language": "python",
   "name": "allendsk"
  },
  "language_info": {
   "codemirror_mode": {
    "name": "ipython",
    "version": 3
   },
   "file_extension": ".py",
   "mimetype": "text/x-python",
   "name": "python",
   "nbconvert_exporter": "python",
   "pygments_lexer": "ipython3",
   "version": "3.8.0"
  }
 },
 "nbformat": 4,
 "nbformat_minor": 2
}
