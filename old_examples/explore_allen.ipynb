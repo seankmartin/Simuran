{
 "cells": [
  {
   "cell_type": "code",
   "execution_count": null,
   "metadata": {
    "execution": {
     "iopub.execute_input": "2022-04-08T11:08:01.825Z",
     "iopub.status.busy": "2022-04-08T11:08:01.813Z",
     "iopub.status.idle": "2022-04-08T11:08:20.866Z",
     "shell.execute_reply": "2022-04-08T11:08:20.851Z"
    }
   },
   "outputs": [],
   "source": [
    "from pathlib import Path\n",
    "\n",
    "import pandas as pd\n",
    "import numpy as np\n",
    "import dtale\n",
    "from allensdk.brain_observatory.ecephys.ecephys_project_cache import EcephysProjectCache\n",
    "\n",
    "import simuran as smr"
   ]
  },
  {
   "cell_type": "code",
   "execution_count": null,
   "metadata": {},
   "outputs": [],
   "source": [
    "data_path = r\"D:\\AllenBrainObservatory\\ephys_data\""
   ]
  },
  {
   "cell_type": "code",
   "execution_count": null,
   "metadata": {
    "jupyter": {
     "source_hidden": false
    },
    "tags": []
   },
   "outputs": [],
   "source": [
    "def load_allen():\n",
    "    data_directory = Path(data_path)\n",
    "    manifest_path = data_directory / \"manifest.json\"\n",
    "    cache = EcephysProjectCache.from_warehouse(\n",
    "        manifest=manifest_path, fetch_tries=1, timeout=20000\n",
    "    )\n",
    "    return cache"
   ]
  },
  {
   "cell_type": "code",
   "execution_count": null,
   "metadata": {},
   "outputs": [],
   "source": [
    "cache = load_allen()"
   ]
  },
  {
   "cell_type": "code",
   "execution_count": null,
   "metadata": {
    "jupyter": {
     "outputs_hidden": true
    }
   },
   "outputs": [],
   "source": [
    "# Allen sdk help\n",
    "help(cache)"
   ]
  },
  {
   "cell_type": "code",
   "execution_count": null,
   "metadata": {
    "scrolled": false
   },
   "outputs": [],
   "source": [
    "sessions = cache.get_session_table()\n",
    "\n",
    "d = dtale.show(sessions)\n",
    "# d.open_browser()\n",
    "d\n",
    "\n",
    "probes = cache.get_probes()\n",
    "\n",
    "dtale.show(probes)\n",
    "\n",
    "channels = cache.get_channels()\n",
    "dtale.show(channels)\n",
    "\n",
    "units = cache.get_units()\n",
    "dtale.show(units)"
   ]
  },
  {
   "cell_type": "code",
   "execution_count": null,
   "metadata": {},
   "outputs": [],
   "source": [
    "analysis_metrics1 = cache.get_unit_analysis_metrics_by_session_type(\n",
    "    \"brain_observatory_1.1\",\n",
    "    amplitude_cutoff_maximum=np.inf,\n",
    "    presence_ratio_minimum=-np.inf,\n",
    "    isi_violations_maximum=np.inf,\n",
    ")\n",
    "\n",
    "analysis_metrics2 = cache.get_unit_analysis_metrics_by_session_type(\n",
    "    \"functional_connectivity\",\n",
    "    amplitude_cutoff_maximum=np.inf,\n",
    "    presence_ratio_minimum=-np.inf,\n",
    "    isi_violations_maximum=np.inf,\n",
    ")\n",
    "\n",
    "all_metrics = pd.concat([analysis_metrics1, analysis_metrics2], sort=False)\n",
    "dtale.show(all_metrics)"
   ]
  },
  {
   "cell_type": "code",
   "execution_count": null,
   "metadata": {},
   "outputs": [],
   "source": [
    "from allensdk.brain_observatory.behavior.behavior_project_cache import VisualBehaviorOphysProjectCache"
   ]
  },
  {
   "cell_type": "code",
   "execution_count": null,
   "metadata": {},
   "outputs": [],
   "source": [
    "data_storage_directory = Path(r\"D:\\AllenBrainObservatory\\ophys_data\")\n",
    "cache = VisualBehaviorOphysProjectCache.from_s3_cache(cache_dir=data_storage_directory)"
   ]
  },
  {
   "cell_type": "code",
   "execution_count": null,
   "metadata": {},
   "outputs": [],
   "source": [
    "behavior_sessions = cache.get_behavior_session_table()\n",
    "behavior_ophys_sessions = cache.get_ophys_session_table()\n",
    "behavior_ophys_experiments = cache.get_ophys_experiment_table()"
   ]
  },
  {
   "cell_type": "code",
   "execution_count": null,
   "metadata": {},
   "outputs": [],
   "source": [
    "dtale.show(behavior_ophys_sessions)"
   ]
  },
  {
   "cell_type": "code",
   "execution_count": null,
   "metadata": {},
   "outputs": [],
   "source": [
    "dtale.show(behavior_ophys_experiments)"
   ]
  },
  {
   "cell_type": "code",
   "execution_count": null,
   "metadata": {},
   "outputs": [],
   "source": [
    "def filter_table(table: pd.DataFrame) -> pd.DataFrame:\n",
    "    \"\"\"\n",
    "    _summary_\n",
    "\n",
    "    Parameters\n",
    "    ----------\n",
    "    table : pd.DataFrame\n",
    "        _description_\n",
    "    inplace : bool, optional\n",
    "        _description_, by default True\n",
    "\n",
    "    Returns\n",
    "    -------\n",
    "    pd.DataFrame\n",
    "        _description_\n",
    "    \"\"\"\n",
    "    genotype = \"Slc17a7-IRES2-Cre/wt;Camk2a-tTA/wt;Ai93(TITL-GCaMP6f)/wt\"\n",
    "    # Alternatively\n",
    "    values = {\n",
    "        \"project_code\": [\"VisualBehaviorMultiscope\"],\n",
    "        \"full_genotype\": [genotype],\n",
    "    }\n",
    "    filters = []\n",
    "    for k, v in values.items():\n",
    "        filters.append(table[k].isin(v))\n",
    "    full_mask = np.logical_and.reduce(np.array(filters))\n",
    "    filtered_table = table[full_mask]\n",
    "    return filtered_table"
   ]
  },
  {
   "cell_type": "code",
   "execution_count": null,
   "metadata": {},
   "outputs": [],
   "source": [
    "filtered_table = filter_table(behavior_ophys_experiments)\n",
    "row = filtered_table.iloc[0]\n",
    "row_as_dict = row.to_dict()\n",
    "row_as_dict[filtered_table.index.name] = row.name"
   ]
  },
  {
   "cell_type": "code",
   "execution_count": null,
   "metadata": {},
   "outputs": [],
   "source": [
    "recording = smr.Recording()\n",
    "recording.loader = smr.loader(\"allen_ophys\")(cache)\n",
    "recording.set_metadata(row_as_dict)\n",
    "recording.available = [\"signals\"] # This line is silly\n",
    "recording.new_load() # Set back to old load"
   ]
  },
  {
   "cell_type": "code",
   "execution_count": null,
   "metadata": {},
   "outputs": [],
   "source": [
    "import objexplore\n",
    "help(objexplore)"
   ]
  },
  {
   "cell_type": "code",
   "execution_count": null,
   "metadata": {},
   "outputs": [],
   "source": [
    "recording.explore()\n",
    "recording.show_table(recording.cell_specimen_table)"
   ]
  },
  {
   "cell_type": "code",
   "execution_count": null,
   "metadata": {},
   "outputs": [],
   "source": []
  }
 ],
 "metadata": {
  "interpreter": {
   "hash": "23e06a71324bc62252ef4f54ef852b248ed4a7e67564e283eac19e689a0f7051"
  },
  "kernelspec": {
   "display_name": "allendsk",
   "language": "python",
   "name": "python3"
  },
  "language_info": {
   "codemirror_mode": {
    "name": "ipython",
    "version": 3
   },
   "file_extension": ".py",
   "mimetype": "text/x-python",
   "name": "python",
   "nbconvert_exporter": "python",
   "pygments_lexer": "ipython3",
   "version": "3.8.0"
  },
  "nteract": {
   "version": "0.28.0"
  }
 },
 "nbformat": 4,
 "nbformat_minor": 2
}
